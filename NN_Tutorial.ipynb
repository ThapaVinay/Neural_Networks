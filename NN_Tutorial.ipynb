{
  "nbformat": 4,
  "nbformat_minor": 0,
  "metadata": {
    "colab": {
      "provenance": [],
      "authorship_tag": "ABX9TyNLFl7j0axyYt330I88azep",
      "include_colab_link": true
    },
    "kernelspec": {
      "name": "python3",
      "display_name": "Python 3"
    },
    "language_info": {
      "name": "python"
    }
  },
  "cells": [
    {
      "cell_type": "markdown",
      "metadata": {
        "id": "view-in-github",
        "colab_type": "text"
      },
      "source": [
        "<a href=\"https://colab.research.google.com/github/ThapaVinay/Neural_Networks/blob/master/NN_Tutorial.ipynb\" target=\"_parent\"><img src=\"https://colab.research.google.com/assets/colab-badge.svg\" alt=\"Open In Colab\"/></a>"
      ]
    },
    {
      "cell_type": "markdown",
      "source": [
        "<b> What is a neuron ? </b> <br>\n",
        "* Something that can store values between 0 and 1.\n",
        "\n",
        "<b> What are hidden layers used for ? </b>\n",
        "* They are used to recognise and hold patterns in them.\n",
        "\n",
        "> Random Weights -- After training -- Trained weights\n",
        "\n"
      ],
      "metadata": {
        "id": "RGT2lqYZcnfg"
      }
    },
    {
      "cell_type": "markdown",
      "source": [
        "<img src='https://drive.google.com/uc?id=1fq8MfCw9WhPHIIHNlgE2kCVVxD6GMOjx' width='600px'/>\n",
        "\n",
        "\n",
        "\n"
      ],
      "metadata": {
        "id": "XXrBYfTEgrtD"
      }
    },
    {
      "cell_type": "markdown",
      "source": [
        "<b> Cost Function  </b> = Error Representation <br>\n",
        "\n",
        "\n",
        "\n",
        "<img src='https://drive.google.com/uc?id=1P9h9wV-gCiX5y5QIZNfgtvH_6mWYsVcH' width='600px'/>\n",
        "\n",
        "\n",
        "\n"
      ],
      "metadata": {
        "id": "8315dT9Cjzjz"
      }
    },
    {
      "cell_type": "markdown",
      "source": [
        "<b> Why we need activation functions ?</b>\n",
        "* To add non-linearty to the model.\n",
        "\n",
        "<img src='https://drive.google.com/uc?id=1JFScCeGpdBUHjKTn91os-wvJYpMrkKvh' width='600px'/>"
      ],
      "metadata": {
        "id": "GZJJXfZLpUGT"
      }
    },
    {
      "cell_type": "markdown",
      "source": [
        "<b> Types of Cost functions </b>\n",
        "* Cost function is error representation in machine learning.\n",
        "\n",
        "<img src='https://drive.google.com/uc?id=1HLjzJwaZ829ujjpkfyjdlDpSpMue_zn5' width='600px'/>\n",
        "\n",
        "\n"
      ],
      "metadata": {
        "id": "zxgWIjiAAMuu"
      }
    },
    {
      "cell_type": "markdown",
      "source": [],
      "metadata": {
        "id": "MzN37EFciDCi"
      }
    },
    {
      "cell_type": "markdown",
      "source": [
        "\n",
        "\n",
        "---\n",
        "\n"
      ],
      "metadata": {
        "id": "_IjBIf4o_-ZP"
      }
    }
  ]
}